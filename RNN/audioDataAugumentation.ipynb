{
 "cells": [
  {
   "cell_type": "code",
   "execution_count": 1,
   "metadata": {},
   "outputs": [
    {
     "name": "stderr",
     "output_type": "stream",
     "text": [
      "SoX could not be found!\n",
      "\n",
      "    If you do not have SoX, proceed here:\n",
      "     - - - http://sox.sourceforge.net/ - - -\n",
      "\n",
      "    If you do (or think that you should) have SoX, double-check your\n",
      "    path variables.\n",
      "    \n"
     ]
    }
   ],
   "source": [
    "#imports\n",
    "from pathlib import Path\n",
    "import os\n",
    "import copy\n",
    "\n",
    "import numpy as np\n",
    "\n",
    "import torch\n",
    "import torch.nn as nn\n",
    "import torch.nn.functional as F\n",
    "import torch.optim as optim\n",
    "import torchaudio\n",
    "from torch.utils.data import Dataset\n",
    "from torch.utils.data import DataLoader\n",
    "from torchsummary import summary\n",
    "import sys\n",
    "\n",
    "from sklearn.model_selection import train_test_split\n",
    "\n",
    "import matplotlib.pyplot as plt\n",
    "import IPython.display as ipd\n",
    "from matplotlib.pyplot import figure\n",
    "import sox\n",
    "\n",
    "from tqdm import tqdm"
   ]
  },
  {
   "cell_type": "code",
   "execution_count": 2,
   "metadata": {},
   "outputs": [],
   "source": [
    "#https://pytorch.org/audio/stable/_modules/torchaudio/datasets/speechcommands.html\n",
    "def load_speechcommands_item( path: str,filepath: str):\n",
    "    label, filename = os.path.split(filepath)\n",
    "    waveform, sample_rate = torchaudio.load(path +'/'+ filepath)\n",
    "    return label, waveform, sample_rate\n",
    "    \n",
    "def _load_folder_list(root):\n",
    "    return  list(str(p)[len(root)- 1:] for p in Path(root).glob(\"*/*.wav\"))\n",
    "\n",
    "\n",
    "class _SpeechSubset(Dataset):\n",
    "    def __init__(self, root, subset, transformation = None):\n",
    "        self.root = root\n",
    "        self.subset = subset\n",
    "        self.transformation = transformation\n",
    "    \n",
    "    def __len__(self):\n",
    "        return len(self.subset)\n",
    "    \n",
    "    def __getitem__(self, idx):\n",
    "        filepath = self.subset[idx]\n",
    "        label, waveform, sample_rate = load_speechcommands_item(self.root, filepath)\n",
    "        if self.transformation is not None:\n",
    "            label, waveform, sample_rate = self.transformation(label, waveform, sample_rate)\n",
    "        return waveform, sample_rate, label,\n",
    "    \n",
    "\n",
    "        \n",
    "    \n",
    "\n",
    "class SpeechDataset():\n",
    "    def __init__(self, root, train_size = None, filter_name = None, transformation = None, ):\n",
    "        self.root = root\n",
    "        self.train_size = train_size\n",
    "        self.transformation = transformation\n",
    "        self.dataset = _load_folder_list(self.root)\n",
    "        \n",
    "        if filter_name is not None:\n",
    "            self.dataset = [x for x in self.dataset if filter_name(x) == False]\n",
    "            \n",
    "        if self.train_size is not None:\n",
    "            self.train_subset, self.val_subset = train_test_split(self.dataset, train_size=self.train_size)\n",
    "     \n",
    "    def __getSubset(self, name):\n",
    "        if name == \"train\":\n",
    "            return _SpeechSubset(self.root, self.train_subset, transformation = self.transformation)\n",
    "        elif name == \"val\":\n",
    "            return _SpeechSubset(self.root, self.val_subset, transformation = self.transformation)\n",
    "        elif name == \"train+val\":\n",
    "            return _SpeechSubset(self.root,  self.dataset, transformation = self.transformation)\n",
    "        else:\n",
    "            return None\n",
    "            \n",
    "    def getTrainSubset(self,):\n",
    "        return self.__getSubset(\"train\")\n",
    "    \n",
    "    def getValidationSubset(self):\n",
    "        return self.__getSubset(\"val\")\n",
    "    \n",
    "    def getTrainValidationSubset(self):\n",
    "        return self.__getSubset(\"train+val\")\n",
    "    \n",
    "    def getFilenames(self):\n",
    "        return self.dataset"
   ]
  },
  {
   "cell_type": "code",
   "execution_count": 3,
   "metadata": {},
   "outputs": [],
   "source": [
    "dataset_noise = SpeechDataset(\"./train/audio\",None, filter_name = lambda x: x.startswith('_background_noise_') == False)\n",
    "\n",
    "whole_set_noise = dataset_noise.getTrainValidationSubset()"
   ]
  },
  {
   "cell_type": "code",
   "execution_count": 4,
   "metadata": {},
   "outputs": [
    {
     "name": "stdout",
     "output_type": "stream",
     "text": [
      "\n",
      "\n",
      "\n",
      "\n",
      "\n",
      "\n"
     ]
    }
   ],
   "source": [
    "#create silence\n",
    "import random\n",
    "import shutil\n",
    "\n",
    "shutil.rmtree('./train/audio/silence', ignore_errors=True)\n",
    "Path(\"./train/audio/silence\").mkdir(parents=True, exist_ok=True)\n",
    "\n",
    "low_sum_by_second = 0.5\n",
    "\n",
    "max_ratio_level = 1\n",
    "multiplication = 5\n",
    "\n",
    "\n",
    "for z,(w,s,l) in enumerate(whole_set_noise):\n",
    "    min_val = len(w[0]) / (s * float(w[0].abs().sum())) * low_sum_by_second\n",
    "    step = (max_ratio_level - min_val) / multiplication\n",
    "    print()\n",
    "    for i in range(multiplication +1):\n",
    "        ratio = min_val + step * i\n",
    "        wave = w * ratio\n",
    "        wave_split = wave.split(16000, dim = 1)\n",
    "        for j,w1 in enumerate(wave_split):\n",
    "            Path(\"./audio/silence\").mkdir(parents=True, exist_ok=True)\n",
    "            torchaudio.save('./train/audio/silence/'+str(z) + \"_\" +str(i) + \"_\" + str(j)+'.wav', w1, 16000)\n",
    "\n",
    "\n"
   ]
  },
  {
   "cell_type": "code",
   "execution_count": 6,
   "metadata": {},
   "outputs": [],
   "source": [
    "dataset = SpeechDataset(\"./train/audio\",0.7, filter_name = lambda x: x.startswith('_background_noise_'))\n",
    "\n",
    "train_set = dataset.getTrainSubset()\n",
    "val_set = dataset.getValidationSubset()\n",
    "whole_set = dataset.getTrainValidationSubset()"
   ]
  },
  {
   "cell_type": "code",
   "execution_count": 8,
   "metadata": {},
   "outputs": [],
   "source": [
    "labels =['zero',\n",
    "  'on',\n",
    "  'bed',\n",
    "  'off',\n",
    "  'stop',\n",
    "  'up',\n",
    "  'six',\n",
    "  'bird',\n",
    "  'no',\n",
    "  'house',\n",
    "  'three',\n",
    "  'dog',\n",
    "  'five',\n",
    "  'silence',\n",
    "  'tree',\n",
    "  'left',\n",
    "  'nine',\n",
    "  'marvin',\n",
    "  'one',\n",
    "  'wow',\n",
    "  'right',\n",
    "  'yes',\n",
    "  'eight',\n",
    "  'go',\n",
    "  'down',\n",
    "  'cat',\n",
    "  'four',\n",
    "  'two',\n",
    "  'seven',\n",
    "  'sheila',\n",
    "  'happy']\n"
   ]
  },
  {
   "cell_type": "code",
   "execution_count": 9,
   "metadata": {},
   "outputs": [
    {
     "name": "stdout",
     "output_type": "stream",
     "text": [
      "yes --> tensor(21) --> yes\n"
     ]
    }
   ],
   "source": [
    "def label_to_index(word):\n",
    "    # Return the position of the word in labels\n",
    "    return torch.tensor(labels.index(word))\n",
    "\n",
    "\n",
    "def index_to_label(index):\n",
    "    # Return the word corresponding to the index in labels\n",
    "    # This is the inverse of label_to_index\n",
    "    return labels[index]\n",
    "\n",
    "\n",
    "word_start = \"yes\"\n",
    "index = label_to_index(word_start)\n",
    "word_recovered = index_to_label(index)\n",
    "\n",
    "print(word_start, \"-->\", index, \"-->\", word_recovered)"
   ]
  },
  {
   "cell_type": "code",
   "execution_count": 10,
   "metadata": {},
   "outputs": [],
   "source": [
    "softmax = torch.load(\"tensor.pt\")"
   ]
  },
  {
   "cell_type": "code",
   "execution_count": 24,
   "metadata": {},
   "outputs": [
    {
     "data": {
      "text/plain": [
       "46993"
      ]
     },
     "execution_count": 24,
     "metadata": {},
     "output_type": "execute_result"
    }
   ],
   "source": [
    "len(softmax)"
   ]
  },
  {
   "cell_type": "code",
   "execution_count": 17,
   "metadata": {},
   "outputs": [
    {
     "data": {
      "text/plain": [
       "tensor(43240)"
      ]
     },
     "execution_count": 17,
     "metadata": {},
     "output_type": "execute_result"
    }
   ],
   "source": [
    "softmax.max(dim = 1)[0].argmin()"
   ]
  },
  {
   "cell_type": "code",
   "execution_count": 30,
   "metadata": {},
   "outputs": [
    {
     "data": {
      "text/plain": [
       "tensor(0.0801)"
      ]
     },
     "execution_count": 30,
     "metadata": {},
     "output_type": "execute_result"
    }
   ],
   "source": [
    "softmax.max(dim = 1)[0][43240]"
   ]
  },
  {
   "cell_type": "code",
   "execution_count": 28,
   "metadata": {},
   "outputs": [],
   "source": [
    " a = softmax.max(dim = 1)[0].numpy()\n",
    " "
   ]
  },
  {
   "cell_type": "code",
   "execution_count": 37,
   "metadata": {},
   "outputs": [],
   "source": [
    "b = a < 0.7"
   ]
  },
  {
   "cell_type": "code",
   "execution_count": 38,
   "metadata": {},
   "outputs": [
    {
     "data": {
      "text/plain": [
       "978"
      ]
     },
     "execution_count": 38,
     "metadata": {},
     "output_type": "execute_result"
    }
   ],
   "source": [
    "b.sum()"
   ]
  },
  {
   "cell_type": "code",
   "execution_count": 31,
   "metadata": {},
   "outputs": [
    {
     "data": {
      "image/png": "[encoded data removed]",
      "text/plain": [
       "<Figure size 432x288 with 1 Axes>"
      ]
     },
     "metadata": {
      "needs_background": "light"
     },
     "output_type": "display_data"
    }
   ],
   "source": [
    "import matplotlib.pyplot as plt\n",
    "plt.hist(a, bins = 100,range=(0,0.8))\n",
    "plt.show()"
   ]
  },
  {
   "cell_type": "code",
   "execution_count": 25,
   "metadata": {},
   "outputs": [
    {
     "data": {
      "text/plain": [
       "46993"
      ]
     },
     "execution_count": 25,
     "metadata": {},
     "output_type": "execute_result"
    }
   ],
   "source": [
    "len(train_set)"
   ]
  },
  {
   "cell_type": "code",
   "execution_count": 20,
   "metadata": {},
   "outputs": [
    {
     "data": {
      "image/png": "[encoded data removed]",
      "text/plain": [
       "<Figure size 432x288 with 1 Axes>"
      ]
     },
     "metadata": {
      "needs_background": "light"
     },
     "output_type": "display_data"
    }
   ],
   "source": [
    "w = train_set[43240][0]\n",
    "plt.plot(w.t().numpy())\n",
    "plt.show()\n"
   ]
  },
  {
   "cell_type": "code",
   "execution_count": 21,
   "metadata": {},
   "outputs": [],
   "source": [
    "filenames = dataset_noise.getFilenames()"
   ]
  },
  {
   "cell_type": "code",
   "execution_count": 23,
   "metadata": {},
   "outputs": [
    {
     "data": {
      "text/plain": [
       "6"
      ]
     },
     "execution_count": 23,
     "metadata": {},
     "output_type": "execute_result"
    }
   ],
   "source": [
    "len(filenames)"
   ]
  },
  {
   "cell_type": "code",
   "execution_count": 5,
   "metadata": {},
   "outputs": [],
   "source": [
    "import random\n",
    "\n",
    "class RandomSpeedChange:\n",
    "    def __init__(self, sample_rate):\n",
    "        self.sample_rate = sample_rate\n",
    "\n",
    "    def __call__(self, audio_data):\n",
    "        speed_factor = random.choice([0.6, 1.0, 1.9])\n",
    "        if speed_factor == 1.0: # no change\n",
    "            return audio_data\n",
    "\n",
    "        # change speed and resample to original rate:\n",
    "        sox_effects = [\n",
    "            [\"speed\", str(speed_factor)],\n",
    "            [\"rate\", str(self.sample_rate)],\n",
    "        ]\n",
    "        transformed_audio, _ = torchaudio.sox_effects.apply_effects_tensor(\n",
    "            audio_data, self.sample_rate, sox_effects)\n",
    "        return transformed_audio\n",
    " \n",
    "# speed_transform = RandomSpeedChange(sample_rate)\n",
    "# transformed_audio = speed_transform(audio_data)"
   ]
  },
  {
   "cell_type": "code",
   "execution_count": 6,
   "metadata": {},
   "outputs": [
    {
     "ename": "RuntimeError",
     "evalue": "torchaudio.sox_effects.sox_effects.apply_effects_tensor requires sox",
     "output_type": "error",
     "traceback": [
      "\u001b[1;31m---------------------------------------------------------------------------\u001b[0m",
      "\u001b[1;31mRuntimeError\u001b[0m                              Traceback (most recent call last)",
      "Input \u001b[1;32mIn [6]\u001b[0m, in \u001b[0;36m<module>\u001b[1;34m\u001b[0m\n\u001b[0;32m      2\u001b[0m \u001b[38;5;28;01mfor\u001b[39;00m w,s,l \u001b[38;5;129;01min\u001b[39;00m whole_set:\n\u001b[0;32m      3\u001b[0m     speed_transform \u001b[38;5;241m=\u001b[39m RandomSpeedChange(s)\n\u001b[1;32m----> 4\u001b[0m     novi\u001b[38;5;241m.\u001b[39mappend(\u001b[43mspeed_transform\u001b[49m\u001b[43m(\u001b[49m\u001b[43mw\u001b[49m\u001b[43m)\u001b[49m)\n\u001b[0;32m      6\u001b[0m \u001b[38;5;28;01mfor\u001b[39;00m n \u001b[38;5;129;01min\u001b[39;00m novi:\n\u001b[0;32m      7\u001b[0m     plt\u001b[38;5;241m.\u001b[39mplot(n\u001b[38;5;241m.\u001b[39mt()\u001b[38;5;241m.\u001b[39mnumpy())\n",
      "Input \u001b[1;32mIn [5]\u001b[0m, in \u001b[0;36mRandomSpeedChange.__call__\u001b[1;34m(self, audio_data)\u001b[0m\n\u001b[0;32m     12\u001b[0m \u001b[38;5;66;03m# change speed and resample to original rate:\u001b[39;00m\n\u001b[0;32m     13\u001b[0m sox_effects \u001b[38;5;241m=\u001b[39m [\n\u001b[0;32m     14\u001b[0m     [\u001b[38;5;124m\"\u001b[39m\u001b[38;5;124mspeed\u001b[39m\u001b[38;5;124m\"\u001b[39m, \u001b[38;5;28mstr\u001b[39m(speed_factor)],\n\u001b[0;32m     15\u001b[0m     [\u001b[38;5;124m\"\u001b[39m\u001b[38;5;124mrate\u001b[39m\u001b[38;5;124m\"\u001b[39m, \u001b[38;5;28mstr\u001b[39m(\u001b[38;5;28mself\u001b[39m\u001b[38;5;241m.\u001b[39msample_rate)],\n\u001b[0;32m     16\u001b[0m ]\n\u001b[1;32m---> 17\u001b[0m transformed_audio, _ \u001b[38;5;241m=\u001b[39m \u001b[43mtorchaudio\u001b[49m\u001b[38;5;241;43m.\u001b[39;49m\u001b[43msox_effects\u001b[49m\u001b[38;5;241;43m.\u001b[39;49m\u001b[43mapply_effects_tensor\u001b[49m\u001b[43m(\u001b[49m\n\u001b[0;32m     18\u001b[0m \u001b[43m    \u001b[49m\u001b[43maudio_data\u001b[49m\u001b[43m,\u001b[49m\u001b[43m \u001b[49m\u001b[38;5;28;43mself\u001b[39;49m\u001b[38;5;241;43m.\u001b[39;49m\u001b[43msample_rate\u001b[49m\u001b[43m,\u001b[49m\u001b[43m \u001b[49m\u001b[43msox_effects\u001b[49m\u001b[43m)\u001b[49m\n\u001b[0;32m     19\u001b[0m \u001b[38;5;28;01mreturn\u001b[39;00m transformed_audio\n",
      "File \u001b[1;32m~\\AppData\\Local\\Packages\\PythonSoftwareFoundation.Python.3.8_qbz5n2kfra8p0\\LocalCache\\local-packages\\Python38\\site-packages\\torchaudio\\_internal\\module_utils.py:123\u001b[0m, in \u001b[0;36mrequires_sox.<locals>.decorator.<locals>.wrapped\u001b[1;34m(*args, **kwargs)\u001b[0m\n\u001b[0;32m    121\u001b[0m \u001b[38;5;129m@wraps\u001b[39m(func)\n\u001b[0;32m    122\u001b[0m \u001b[38;5;28;01mdef\u001b[39;00m \u001b[38;5;21mwrapped\u001b[39m(\u001b[38;5;241m*\u001b[39margs, \u001b[38;5;241m*\u001b[39m\u001b[38;5;241m*\u001b[39mkwargs):\n\u001b[1;32m--> 123\u001b[0m     \u001b[38;5;28;01mraise\u001b[39;00m \u001b[38;5;167;01mRuntimeError\u001b[39;00m(\u001b[38;5;124mf\u001b[39m\u001b[38;5;124m'\u001b[39m\u001b[38;5;132;01m{\u001b[39;00mfunc\u001b[38;5;241m.\u001b[39m\u001b[38;5;18m__module__\u001b[39m\u001b[38;5;132;01m}\u001b[39;00m\u001b[38;5;124m.\u001b[39m\u001b[38;5;132;01m{\u001b[39;00mfunc\u001b[38;5;241m.\u001b[39m\u001b[38;5;18m__name__\u001b[39m\u001b[38;5;132;01m}\u001b[39;00m\u001b[38;5;124m requires sox\u001b[39m\u001b[38;5;124m'\u001b[39m)\n",
      "\u001b[1;31mRuntimeError\u001b[0m: torchaudio.sox_effects.sox_effects.apply_effects_tensor requires sox"
     ]
    }
   ],
   "source": [
    "novi = []\n",
    "for w,s,l in whole_set:\n",
    "    speed_transform = RandomSpeedChange(s)\n",
    "    novi.append(speed_transform(w))\n",
    "\n",
    "for n in novi:\n",
    "    plt.plot(n.t().numpy())\n",
    "    plt.show()"
   ]
  }
 ],
 "metadata": {
  "interpreter": {
   "hash": "440c5bd7bb70c3910db86d9f72bcd217f99073d5d5417d5e2761aa8d3d0a98c1"
  },
  "kernelspec": {
   "display_name": "Python 3.8.10 64-bit (windows store)",
   "language": "python",
   "name": "python3"
  },
  "language_info": {
   "codemirror_mode": {
    "name": "ipython",
    "version": 3
   },
   "file_extension": ".py",
   "mimetype": "text/x-python",
   "name": "python",
   "nbconvert_exporter": "python",
   "pygments_lexer": "ipython3",
   "version": "3.8.10"
  },
  "orig_nbformat": 4
 },
 "nbformat": 4,
 "nbformat_minor": 2
}
